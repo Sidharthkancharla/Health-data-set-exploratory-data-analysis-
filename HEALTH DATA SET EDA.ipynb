{
 "cells": [
  {
   "cell_type": "markdown",
   "id": "0b1228b5",
   "metadata": {},
   "source": [
    "# KANCHARLA SAI SIDHARTHA \n",
    "# PG - DBDA \n",
    "# PRN NO : 220980725005\n"
   ]
  },
  {
   "cell_type": "code",
   "execution_count": 1,
   "id": "095f8d75",
   "metadata": {},
   "outputs": [],
   "source": [
    "import numpy as np\n",
    "import pandas as pd"
   ]
  },
  {
   "cell_type": "code",
   "execution_count": 2,
   "id": "898d281f",
   "metadata": {},
   "outputs": [],
   "source": [
    "health = pd.read_csv('health_data.csv')"
   ]
  },
  {
   "cell_type": "code",
   "execution_count": 3,
   "id": "449986bc",
   "metadata": {},
   "outputs": [
    {
     "data": {
      "text/html": [
       "<div>\n",
       "<style scoped>\n",
       "    .dataframe tbody tr th:only-of-type {\n",
       "        vertical-align: middle;\n",
       "    }\n",
       "\n",
       "    .dataframe tbody tr th {\n",
       "        vertical-align: top;\n",
       "    }\n",
       "\n",
       "    .dataframe thead th {\n",
       "        text-align: right;\n",
       "    }\n",
       "</style>\n",
       "<table border=\"1\" class=\"dataframe\">\n",
       "  <thead>\n",
       "    <tr style=\"text-align: right;\">\n",
       "      <th></th>\n",
       "      <th>Age</th>\n",
       "      <th>Sex</th>\n",
       "      <th>HighChol</th>\n",
       "      <th>CholCheck</th>\n",
       "      <th>BMI</th>\n",
       "      <th>Smoker</th>\n",
       "      <th>HeartDiseaseorAttack</th>\n",
       "      <th>PhysActivity</th>\n",
       "      <th>Fruits</th>\n",
       "      <th>Veggies</th>\n",
       "      <th>HvyAlcoholConsump</th>\n",
       "      <th>GenHlth</th>\n",
       "      <th>MentHlth</th>\n",
       "      <th>PhysHlth</th>\n",
       "      <th>DiffWalk</th>\n",
       "      <th>Diabetes</th>\n",
       "      <th>Hypertension</th>\n",
       "      <th>Stroke</th>\n",
       "    </tr>\n",
       "  </thead>\n",
       "  <tbody>\n",
       "    <tr>\n",
       "      <th>0</th>\n",
       "      <td>4.0</td>\n",
       "      <td>1.0</td>\n",
       "      <td>0.0</td>\n",
       "      <td>1.0</td>\n",
       "      <td>26.0</td>\n",
       "      <td>0.0</td>\n",
       "      <td>0.0</td>\n",
       "      <td>1.0</td>\n",
       "      <td>0.0</td>\n",
       "      <td>1.0</td>\n",
       "      <td>0.0</td>\n",
       "      <td>3.0</td>\n",
       "      <td>5.0</td>\n",
       "      <td>30.0</td>\n",
       "      <td>0.0</td>\n",
       "      <td>0.0</td>\n",
       "      <td>1.0</td>\n",
       "      <td>0.0</td>\n",
       "    </tr>\n",
       "    <tr>\n",
       "      <th>1</th>\n",
       "      <td>12.0</td>\n",
       "      <td>1.0</td>\n",
       "      <td>1.0</td>\n",
       "      <td>1.0</td>\n",
       "      <td>26.0</td>\n",
       "      <td>1.0</td>\n",
       "      <td>0.0</td>\n",
       "      <td>0.0</td>\n",
       "      <td>1.0</td>\n",
       "      <td>0.0</td>\n",
       "      <td>0.0</td>\n",
       "      <td>3.0</td>\n",
       "      <td>0.0</td>\n",
       "      <td>0.0</td>\n",
       "      <td>0.0</td>\n",
       "      <td>0.0</td>\n",
       "      <td>1.0</td>\n",
       "      <td>1.0</td>\n",
       "    </tr>\n",
       "    <tr>\n",
       "      <th>2</th>\n",
       "      <td>13.0</td>\n",
       "      <td>1.0</td>\n",
       "      <td>0.0</td>\n",
       "      <td>1.0</td>\n",
       "      <td>26.0</td>\n",
       "      <td>0.0</td>\n",
       "      <td>0.0</td>\n",
       "      <td>1.0</td>\n",
       "      <td>1.0</td>\n",
       "      <td>1.0</td>\n",
       "      <td>0.0</td>\n",
       "      <td>1.0</td>\n",
       "      <td>0.0</td>\n",
       "      <td>10.0</td>\n",
       "      <td>0.0</td>\n",
       "      <td>0.0</td>\n",
       "      <td>0.0</td>\n",
       "      <td>0.0</td>\n",
       "    </tr>\n",
       "    <tr>\n",
       "      <th>3</th>\n",
       "      <td>11.0</td>\n",
       "      <td>1.0</td>\n",
       "      <td>1.0</td>\n",
       "      <td>1.0</td>\n",
       "      <td>28.0</td>\n",
       "      <td>1.0</td>\n",
       "      <td>0.0</td>\n",
       "      <td>1.0</td>\n",
       "      <td>1.0</td>\n",
       "      <td>1.0</td>\n",
       "      <td>0.0</td>\n",
       "      <td>3.0</td>\n",
       "      <td>0.0</td>\n",
       "      <td>3.0</td>\n",
       "      <td>0.0</td>\n",
       "      <td>0.0</td>\n",
       "      <td>1.0</td>\n",
       "      <td>0.0</td>\n",
       "    </tr>\n",
       "    <tr>\n",
       "      <th>4</th>\n",
       "      <td>8.0</td>\n",
       "      <td>0.0</td>\n",
       "      <td>0.0</td>\n",
       "      <td>1.0</td>\n",
       "      <td>29.0</td>\n",
       "      <td>1.0</td>\n",
       "      <td>0.0</td>\n",
       "      <td>1.0</td>\n",
       "      <td>1.0</td>\n",
       "      <td>1.0</td>\n",
       "      <td>0.0</td>\n",
       "      <td>2.0</td>\n",
       "      <td>0.0</td>\n",
       "      <td>0.0</td>\n",
       "      <td>0.0</td>\n",
       "      <td>0.0</td>\n",
       "      <td>0.0</td>\n",
       "      <td>0.0</td>\n",
       "    </tr>\n",
       "  </tbody>\n",
       "</table>\n",
       "</div>"
      ],
      "text/plain": [
       "    Age  Sex  HighChol  CholCheck   BMI  Smoker  HeartDiseaseorAttack  \\\n",
       "0   4.0  1.0       0.0        1.0  26.0     0.0                   0.0   \n",
       "1  12.0  1.0       1.0        1.0  26.0     1.0                   0.0   \n",
       "2  13.0  1.0       0.0        1.0  26.0     0.0                   0.0   \n",
       "3  11.0  1.0       1.0        1.0  28.0     1.0                   0.0   \n",
       "4   8.0  0.0       0.0        1.0  29.0     1.0                   0.0   \n",
       "\n",
       "   PhysActivity  Fruits  Veggies  HvyAlcoholConsump  GenHlth  MentHlth  \\\n",
       "0           1.0     0.0      1.0                0.0      3.0       5.0   \n",
       "1           0.0     1.0      0.0                0.0      3.0       0.0   \n",
       "2           1.0     1.0      1.0                0.0      1.0       0.0   \n",
       "3           1.0     1.0      1.0                0.0      3.0       0.0   \n",
       "4           1.0     1.0      1.0                0.0      2.0       0.0   \n",
       "\n",
       "   PhysHlth  DiffWalk  Diabetes  Hypertension  Stroke  \n",
       "0      30.0       0.0       0.0           1.0     0.0  \n",
       "1       0.0       0.0       0.0           1.0     1.0  \n",
       "2      10.0       0.0       0.0           0.0     0.0  \n",
       "3       3.0       0.0       0.0           1.0     0.0  \n",
       "4       0.0       0.0       0.0           0.0     0.0  "
      ]
     },
     "execution_count": 3,
     "metadata": {},
     "output_type": "execute_result"
    }
   ],
   "source": [
    "health.head()"
   ]
  },
  {
   "cell_type": "code",
   "execution_count": 4,
   "id": "29335e7b",
   "metadata": {},
   "outputs": [
    {
     "data": {
      "text/plain": [
       "Age                     0\n",
       "Sex                     0\n",
       "HighChol                0\n",
       "CholCheck               0\n",
       "BMI                     0\n",
       "Smoker                  0\n",
       "HeartDiseaseorAttack    0\n",
       "PhysActivity            0\n",
       "Fruits                  0\n",
       "Veggies                 0\n",
       "HvyAlcoholConsump       0\n",
       "GenHlth                 0\n",
       "MentHlth                0\n",
       "PhysHlth                0\n",
       "DiffWalk                0\n",
       "Diabetes                0\n",
       "Hypertension            0\n",
       "Stroke                  0\n",
       "dtype: int64"
      ]
     },
     "execution_count": 4,
     "metadata": {},
     "output_type": "execute_result"
    }
   ],
   "source": [
    "health.isnull().sum()"
   ]
  },
  {
   "cell_type": "code",
   "execution_count": 5,
   "id": "bf827eaf",
   "metadata": {},
   "outputs": [
    {
     "data": {
      "text/plain": [
       "(70692, 18)"
      ]
     },
     "execution_count": 5,
     "metadata": {},
     "output_type": "execute_result"
    }
   ],
   "source": [
    "health.shape"
   ]
  },
  {
   "cell_type": "code",
   "execution_count": 6,
   "id": "14c4f1b7",
   "metadata": {},
   "outputs": [],
   "source": [
    "import matplotlib.pyplot as plt\n",
    "import seaborn as sns"
   ]
  },
  {
   "cell_type": "code",
   "execution_count": 7,
   "id": "55aae423",
   "metadata": {},
   "outputs": [
    {
     "data": {
      "text/plain": [
       "1.0    39832\n",
       "0.0    30860\n",
       "Name: Hypertension, dtype: int64"
      ]
     },
     "execution_count": 7,
     "metadata": {},
     "output_type": "execute_result"
    }
   ],
   "source": [
    "health['Hypertension'].value_counts()"
   ]
  },
  {
   "cell_type": "code",
   "execution_count": 8,
   "id": "74d7ba24",
   "metadata": {},
   "outputs": [
    {
     "data": {
      "text/plain": [
       "0.0    35346\n",
       "1.0    35346\n",
       "Name: Diabetes, dtype: int64"
      ]
     },
     "execution_count": 8,
     "metadata": {},
     "output_type": "execute_result"
    }
   ],
   "source": [
    "health['Diabetes'].value_counts()"
   ]
  },
  {
   "cell_type": "code",
   "execution_count": 9,
   "id": "f3ab3c6b",
   "metadata": {},
   "outputs": [
    {
     "data": {
      "text/plain": [
       "0.0    66297\n",
       "1.0     4395\n",
       "Name: Stroke, dtype: int64"
      ]
     },
     "execution_count": 9,
     "metadata": {},
     "output_type": "execute_result"
    }
   ],
   "source": [
    "health['Stroke'].value_counts()"
   ]
  },
  {
   "cell_type": "code",
   "execution_count": 10,
   "id": "7dff2769",
   "metadata": {},
   "outputs": [
    {
     "data": {
      "text/html": [
       "<div>\n",
       "<style scoped>\n",
       "    .dataframe tbody tr th:only-of-type {\n",
       "        vertical-align: middle;\n",
       "    }\n",
       "\n",
       "    .dataframe tbody tr th {\n",
       "        vertical-align: top;\n",
       "    }\n",
       "\n",
       "    .dataframe thead th {\n",
       "        text-align: right;\n",
       "    }\n",
       "</style>\n",
       "<table border=\"1\" class=\"dataframe\">\n",
       "  <thead>\n",
       "    <tr style=\"text-align: right;\">\n",
       "      <th></th>\n",
       "      <th>count</th>\n",
       "      <th>mean</th>\n",
       "      <th>std</th>\n",
       "      <th>min</th>\n",
       "      <th>25%</th>\n",
       "      <th>50%</th>\n",
       "      <th>75%</th>\n",
       "      <th>max</th>\n",
       "    </tr>\n",
       "  </thead>\n",
       "  <tbody>\n",
       "    <tr>\n",
       "      <th>Age</th>\n",
       "      <td>70692.0</td>\n",
       "      <td>8.584055</td>\n",
       "      <td>2.852153</td>\n",
       "      <td>1.0</td>\n",
       "      <td>7.0</td>\n",
       "      <td>9.0</td>\n",
       "      <td>11.0</td>\n",
       "      <td>13.0</td>\n",
       "    </tr>\n",
       "    <tr>\n",
       "      <th>Sex</th>\n",
       "      <td>70692.0</td>\n",
       "      <td>0.456997</td>\n",
       "      <td>0.498151</td>\n",
       "      <td>0.0</td>\n",
       "      <td>0.0</td>\n",
       "      <td>0.0</td>\n",
       "      <td>1.0</td>\n",
       "      <td>1.0</td>\n",
       "    </tr>\n",
       "    <tr>\n",
       "      <th>HighChol</th>\n",
       "      <td>70692.0</td>\n",
       "      <td>0.525703</td>\n",
       "      <td>0.499342</td>\n",
       "      <td>0.0</td>\n",
       "      <td>0.0</td>\n",
       "      <td>1.0</td>\n",
       "      <td>1.0</td>\n",
       "      <td>1.0</td>\n",
       "    </tr>\n",
       "    <tr>\n",
       "      <th>CholCheck</th>\n",
       "      <td>70692.0</td>\n",
       "      <td>0.975259</td>\n",
       "      <td>0.155336</td>\n",
       "      <td>0.0</td>\n",
       "      <td>1.0</td>\n",
       "      <td>1.0</td>\n",
       "      <td>1.0</td>\n",
       "      <td>1.0</td>\n",
       "    </tr>\n",
       "    <tr>\n",
       "      <th>BMI</th>\n",
       "      <td>70692.0</td>\n",
       "      <td>29.856985</td>\n",
       "      <td>7.113954</td>\n",
       "      <td>12.0</td>\n",
       "      <td>25.0</td>\n",
       "      <td>29.0</td>\n",
       "      <td>33.0</td>\n",
       "      <td>98.0</td>\n",
       "    </tr>\n",
       "    <tr>\n",
       "      <th>Smoker</th>\n",
       "      <td>70692.0</td>\n",
       "      <td>0.475273</td>\n",
       "      <td>0.499392</td>\n",
       "      <td>0.0</td>\n",
       "      <td>0.0</td>\n",
       "      <td>0.0</td>\n",
       "      <td>1.0</td>\n",
       "      <td>1.0</td>\n",
       "    </tr>\n",
       "    <tr>\n",
       "      <th>HeartDiseaseorAttack</th>\n",
       "      <td>70692.0</td>\n",
       "      <td>0.147810</td>\n",
       "      <td>0.354914</td>\n",
       "      <td>0.0</td>\n",
       "      <td>0.0</td>\n",
       "      <td>0.0</td>\n",
       "      <td>0.0</td>\n",
       "      <td>1.0</td>\n",
       "    </tr>\n",
       "    <tr>\n",
       "      <th>PhysActivity</th>\n",
       "      <td>70692.0</td>\n",
       "      <td>0.703036</td>\n",
       "      <td>0.456924</td>\n",
       "      <td>0.0</td>\n",
       "      <td>0.0</td>\n",
       "      <td>1.0</td>\n",
       "      <td>1.0</td>\n",
       "      <td>1.0</td>\n",
       "    </tr>\n",
       "    <tr>\n",
       "      <th>Fruits</th>\n",
       "      <td>70692.0</td>\n",
       "      <td>0.611795</td>\n",
       "      <td>0.487345</td>\n",
       "      <td>0.0</td>\n",
       "      <td>0.0</td>\n",
       "      <td>1.0</td>\n",
       "      <td>1.0</td>\n",
       "      <td>1.0</td>\n",
       "    </tr>\n",
       "    <tr>\n",
       "      <th>Veggies</th>\n",
       "      <td>70692.0</td>\n",
       "      <td>0.788774</td>\n",
       "      <td>0.408181</td>\n",
       "      <td>0.0</td>\n",
       "      <td>1.0</td>\n",
       "      <td>1.0</td>\n",
       "      <td>1.0</td>\n",
       "      <td>1.0</td>\n",
       "    </tr>\n",
       "    <tr>\n",
       "      <th>HvyAlcoholConsump</th>\n",
       "      <td>70692.0</td>\n",
       "      <td>0.042721</td>\n",
       "      <td>0.202228</td>\n",
       "      <td>0.0</td>\n",
       "      <td>0.0</td>\n",
       "      <td>0.0</td>\n",
       "      <td>0.0</td>\n",
       "      <td>1.0</td>\n",
       "    </tr>\n",
       "    <tr>\n",
       "      <th>GenHlth</th>\n",
       "      <td>70692.0</td>\n",
       "      <td>2.837082</td>\n",
       "      <td>1.113565</td>\n",
       "      <td>1.0</td>\n",
       "      <td>2.0</td>\n",
       "      <td>3.0</td>\n",
       "      <td>4.0</td>\n",
       "      <td>5.0</td>\n",
       "    </tr>\n",
       "    <tr>\n",
       "      <th>MentHlth</th>\n",
       "      <td>70692.0</td>\n",
       "      <td>3.752037</td>\n",
       "      <td>8.155627</td>\n",
       "      <td>0.0</td>\n",
       "      <td>0.0</td>\n",
       "      <td>0.0</td>\n",
       "      <td>2.0</td>\n",
       "      <td>30.0</td>\n",
       "    </tr>\n",
       "    <tr>\n",
       "      <th>PhysHlth</th>\n",
       "      <td>70692.0</td>\n",
       "      <td>5.810417</td>\n",
       "      <td>10.062261</td>\n",
       "      <td>0.0</td>\n",
       "      <td>0.0</td>\n",
       "      <td>0.0</td>\n",
       "      <td>6.0</td>\n",
       "      <td>30.0</td>\n",
       "    </tr>\n",
       "    <tr>\n",
       "      <th>DiffWalk</th>\n",
       "      <td>70692.0</td>\n",
       "      <td>0.252730</td>\n",
       "      <td>0.434581</td>\n",
       "      <td>0.0</td>\n",
       "      <td>0.0</td>\n",
       "      <td>0.0</td>\n",
       "      <td>1.0</td>\n",
       "      <td>1.0</td>\n",
       "    </tr>\n",
       "    <tr>\n",
       "      <th>Diabetes</th>\n",
       "      <td>70692.0</td>\n",
       "      <td>0.500000</td>\n",
       "      <td>0.500004</td>\n",
       "      <td>0.0</td>\n",
       "      <td>0.0</td>\n",
       "      <td>0.5</td>\n",
       "      <td>1.0</td>\n",
       "      <td>1.0</td>\n",
       "    </tr>\n",
       "    <tr>\n",
       "      <th>Hypertension</th>\n",
       "      <td>70692.0</td>\n",
       "      <td>0.563458</td>\n",
       "      <td>0.495960</td>\n",
       "      <td>0.0</td>\n",
       "      <td>0.0</td>\n",
       "      <td>1.0</td>\n",
       "      <td>1.0</td>\n",
       "      <td>1.0</td>\n",
       "    </tr>\n",
       "    <tr>\n",
       "      <th>Stroke</th>\n",
       "      <td>70692.0</td>\n",
       "      <td>0.062171</td>\n",
       "      <td>0.241468</td>\n",
       "      <td>0.0</td>\n",
       "      <td>0.0</td>\n",
       "      <td>0.0</td>\n",
       "      <td>0.0</td>\n",
       "      <td>1.0</td>\n",
       "    </tr>\n",
       "  </tbody>\n",
       "</table>\n",
       "</div>"
      ],
      "text/plain": [
       "                        count       mean        std   min   25%   50%   75%  \\\n",
       "Age                   70692.0   8.584055   2.852153   1.0   7.0   9.0  11.0   \n",
       "Sex                   70692.0   0.456997   0.498151   0.0   0.0   0.0   1.0   \n",
       "HighChol              70692.0   0.525703   0.499342   0.0   0.0   1.0   1.0   \n",
       "CholCheck             70692.0   0.975259   0.155336   0.0   1.0   1.0   1.0   \n",
       "BMI                   70692.0  29.856985   7.113954  12.0  25.0  29.0  33.0   \n",
       "Smoker                70692.0   0.475273   0.499392   0.0   0.0   0.0   1.0   \n",
       "HeartDiseaseorAttack  70692.0   0.147810   0.354914   0.0   0.0   0.0   0.0   \n",
       "PhysActivity          70692.0   0.703036   0.456924   0.0   0.0   1.0   1.0   \n",
       "Fruits                70692.0   0.611795   0.487345   0.0   0.0   1.0   1.0   \n",
       "Veggies               70692.0   0.788774   0.408181   0.0   1.0   1.0   1.0   \n",
       "HvyAlcoholConsump     70692.0   0.042721   0.202228   0.0   0.0   0.0   0.0   \n",
       "GenHlth               70692.0   2.837082   1.113565   1.0   2.0   3.0   4.0   \n",
       "MentHlth              70692.0   3.752037   8.155627   0.0   0.0   0.0   2.0   \n",
       "PhysHlth              70692.0   5.810417  10.062261   0.0   0.0   0.0   6.0   \n",
       "DiffWalk              70692.0   0.252730   0.434581   0.0   0.0   0.0   1.0   \n",
       "Diabetes              70692.0   0.500000   0.500004   0.0   0.0   0.5   1.0   \n",
       "Hypertension          70692.0   0.563458   0.495960   0.0   0.0   1.0   1.0   \n",
       "Stroke                70692.0   0.062171   0.241468   0.0   0.0   0.0   0.0   \n",
       "\n",
       "                       max  \n",
       "Age                   13.0  \n",
       "Sex                    1.0  \n",
       "HighChol               1.0  \n",
       "CholCheck              1.0  \n",
       "BMI                   98.0  \n",
       "Smoker                 1.0  \n",
       "HeartDiseaseorAttack   1.0  \n",
       "PhysActivity           1.0  \n",
       "Fruits                 1.0  \n",
       "Veggies                1.0  \n",
       "HvyAlcoholConsump      1.0  \n",
       "GenHlth                5.0  \n",
       "MentHlth              30.0  \n",
       "PhysHlth              30.0  \n",
       "DiffWalk               1.0  \n",
       "Diabetes               1.0  \n",
       "Hypertension           1.0  \n",
       "Stroke                 1.0  "
      ]
     },
     "execution_count": 10,
     "metadata": {},
     "output_type": "execute_result"
    }
   ],
   "source": [
    "health.describe().T"
   ]
  },
  {
   "cell_type": "code",
   "execution_count": 11,
   "id": "e31cbbb2",
   "metadata": {},
   "outputs": [
    {
     "data": {
      "text/plain": [
       "<AxesSubplot:xlabel='Stroke', ylabel='count'>"
      ]
     },
     "execution_count": 11,
     "metadata": {},
     "output_type": "execute_result"
    },
    {
     "data": {
      "image/png": "[encoded data removed]",
      "text/plain": [
       "<Figure size 432x288 with 1 Axes>"
      ]
     },
     "metadata": {
      "needs_background": "light"
     },
     "output_type": "display_data"
    }
   ],
   "source": [
    "sns.countplot(x='Stroke', data=health)"
   ]
  },
  {
   "cell_type": "code",
   "execution_count": 12,
   "id": "6fdc4885",
   "metadata": {},
   "outputs": [
    {
     "data": {
      "text/plain": [
       "Index(['Age', 'Sex', 'HighChol', 'CholCheck', 'BMI', 'Smoker',\n",
       "       'HeartDiseaseorAttack', 'PhysActivity', 'Fruits', 'Veggies',\n",
       "       'HvyAlcoholConsump', 'GenHlth', 'MentHlth', 'PhysHlth', 'DiffWalk',\n",
       "       'Diabetes', 'Hypertension', 'Stroke'],\n",
       "      dtype='object')"
      ]
     },
     "execution_count": 12,
     "metadata": {},
     "output_type": "execute_result"
    }
   ],
   "source": [
    "health.columns"
   ]
  },
  {
   "cell_type": "code",
   "execution_count": 15,
   "id": "06d8805e",
   "metadata": {},
   "outputs": [],
   "source": [
    "cat_cols = ['Sex','HighChol','CholCheck','Smoker','HeartDiseaseorAttack','PhysActivity','Fruits','Veggies',\n",
    "       'HvyAlcoholConsump', 'GenHlth', 'MentHlth', 'PhysHlth', 'DiffWalk','Diabetes', 'Hypertension', 'Stroke'] "
   ]
  },
  {
   "cell_type": "code",
   "execution_count": 20,
   "id": "ab77cdac",
   "metadata": {},
   "outputs": [
    {
     "data": {
      "text/plain": [
       "<AxesSubplot:>"
      ]
     },
     "execution_count": 20,
     "metadata": {},
     "output_type": "execute_result"
    },
    {
     "data": {
      "image/png": "[encoded data removed]",
      "text/plain": [
       "<Figure size 1080x360 with 2 Axes>"
      ]
     },
     "metadata": {
      "needs_background": "light"
     },
     "output_type": "display_data"
    }
   ],
   "source": [
    "fig = plt.figure(figsize=(15,5))\n",
    "corr = health.corr()\n",
    "sns.heatmap(corr,annot=True)"
   ]
  },
  {
   "cell_type": "code",
   "execution_count": 21,
   "id": "94050b50",
   "metadata": {},
   "outputs": [
    {
     "data": {
      "text/plain": [
       "<AxesSubplot:xlabel='Diabetes', ylabel='count'>"
      ]
     },
     "execution_count": 21,
     "metadata": {},
     "output_type": "execute_result"
    },
    {
     "data": {
      "image/png": "[encoded data removed]",
      "text/plain": [
       "<Figure size 432x288 with 1 Axes>"
      ]
     },
     "metadata": {
      "needs_background": "light"
     },
     "output_type": "display_data"
    }
   ],
   "source": [
    "sns.countplot(x='Diabetes', data=health)"
   ]
  },
  {
   "cell_type": "code",
   "execution_count": 22,
   "id": "eb83ce0e",
   "metadata": {},
   "outputs": [
    {
     "data": {
      "text/plain": [
       "<AxesSubplot:xlabel='Hypertension', ylabel='count'>"
      ]
     },
     "execution_count": 22,
     "metadata": {},
     "output_type": "execute_result"
    },
    {
     "data": {
      "image/png": "[encoded data removed]",
      "text/plain": [
       "<Figure size 432x288 with 1 Axes>"
      ]
     },
     "metadata": {
      "needs_background": "light"
     },
     "output_type": "display_data"
    }
   ],
   "source": [
    "sns.countplot(x='Hypertension',data=health)"
   ]
  },
  {
   "cell_type": "code",
   "execution_count": 23,
   "id": "da051230",
   "metadata": {},
   "outputs": [],
   "source": [
    "from sklearn.model_selection import train_test_split"
   ]
  },
  {
   "cell_type": "code",
   "execution_count": 24,
   "id": "dbefd6ed",
   "metadata": {},
   "outputs": [],
   "source": [
    "x = health.drop('Stroke', axis=1)\n",
    "y = health['Stroke']"
   ]
  },
  {
   "cell_type": "code",
   "execution_count": 25,
   "id": "b8bb2f5f",
   "metadata": {},
   "outputs": [],
   "source": [
    "x_train, x_test, y_train, y_test = train_test_split(x,y, test_size=0.3, random_state=0)"
   ]
  },
  {
   "cell_type": "code",
   "execution_count": 26,
   "id": "86abc6c8",
   "metadata": {},
   "outputs": [
    {
     "name": "stdout",
     "output_type": "stream",
     "text": [
      "(49484, 17)\n",
      "(21208, 17)\n",
      "(49484,)\n",
      "(21208,)\n"
     ]
    }
   ],
   "source": [
    "print(x_train.shape)\n",
    "print(x_test.shape)\n",
    "print(y_train.shape)\n",
    "print(y_test.shape)"
   ]
  },
  {
   "cell_type": "code",
   "execution_count": 32,
   "id": "8fd4784c",
   "metadata": {},
   "outputs": [],
   "source": [
    "from sklearn.linear_model import LogisticRegression"
   ]
  },
  {
   "cell_type": "code",
   "execution_count": 33,
   "id": "850458c7",
   "metadata": {},
   "outputs": [],
   "source": [
    "lc = LogisticRegression()"
   ]
  },
  {
   "cell_type": "code",
   "execution_count": 34,
   "id": "381a15bc",
   "metadata": {},
   "outputs": [
    {
     "name": "stderr",
     "output_type": "stream",
     "text": [
      "C:\\Users\\SIDHARTH KANCHARLA\\anaconda3\\lib\\site-packages\\sklearn\\linear_model\\_logistic.py:814: ConvergenceWarning: lbfgs failed to converge (status=1):\n",
      "STOP: TOTAL NO. of ITERATIONS REACHED LIMIT.\n",
      "\n",
      "Increase the number of iterations (max_iter) or scale the data as shown in:\n",
      "    https://scikit-learn.org/stable/modules/preprocessing.html\n",
      "Please also refer to the documentation for alternative solver options:\n",
      "    https://scikit-learn.org/stable/modules/linear_model.html#logistic-regression\n",
      "  n_iter_i = _check_optimize_result(\n"
     ]
    },
    {
     "data": {
      "text/plain": [
       "LogisticRegression()"
      ]
     },
     "execution_count": 34,
     "metadata": {},
     "output_type": "execute_result"
    }
   ],
   "source": [
    "lc.fit(x_train,y_train)"
   ]
  },
  {
   "cell_type": "code",
   "execution_count": 35,
   "id": "9f8a5a99",
   "metadata": {},
   "outputs": [
    {
     "data": {
      "text/plain": [
       "array([[ 0.08218227, -0.03671498,  0.23312558, -1.56421374, -0.03043748,\n",
       "         0.12210422,  0.96312574, -0.02273369,  0.08060097, -0.26749251,\n",
       "        -0.34241733,  0.20640481,  0.00862024,  0.01246934,  0.63441085,\n",
       "         0.29717166,  0.46913385]])"
      ]
     },
     "execution_count": 35,
     "metadata": {},
     "output_type": "execute_result"
    }
   ],
   "source": [
    "lc.coef_"
   ]
  },
  {
   "cell_type": "code",
   "execution_count": 36,
   "id": "27f1ab18",
   "metadata": {},
   "outputs": [],
   "source": [
    "pred = lc.predict(x_test)"
   ]
  },
  {
   "cell_type": "code",
   "execution_count": 37,
   "id": "d1edcc0a",
   "metadata": {},
   "outputs": [],
   "source": [
    "from sklearn import metrics"
   ]
  },
  {
   "cell_type": "code",
   "execution_count": 38,
   "id": "7fada144",
   "metadata": {},
   "outputs": [
    {
     "data": {
      "text/plain": [
       "0.9351188230856281"
      ]
     },
     "execution_count": 38,
     "metadata": {},
     "output_type": "execute_result"
    }
   ],
   "source": [
    "metrics.accuracy_score(y_test, pred)"
   ]
  },
  {
   "cell_type": "code",
   "execution_count": 39,
   "id": "6102dacb",
   "metadata": {},
   "outputs": [
    {
     "name": "stdout",
     "output_type": "stream",
     "text": [
      "              precision    recall  f1-score   support\n",
      "\n",
      "         0.0       0.94      1.00      0.97     19849\n",
      "         1.0       0.19      0.00      0.01      1359\n",
      "\n",
      "    accuracy                           0.94     21208\n",
      "   macro avg       0.56      0.50      0.49     21208\n",
      "weighted avg       0.89      0.94      0.90     21208\n",
      "\n"
     ]
    }
   ],
   "source": [
    "print(metrics.classification_report(y_test,pred))"
   ]
  },
  {
   "cell_type": "markdown",
   "id": "5e6b09b2",
   "metadata": {},
   "source": [
    "### Upto 93% the stroke people are there overall "
   ]
  },
  {
   "cell_type": "code",
   "execution_count": 40,
   "id": "2d651807",
   "metadata": {},
   "outputs": [],
   "source": [
    "a = health.drop('Hypertension', axis=1)\n",
    "b = health['Hypertension']"
   ]
  },
  {
   "cell_type": "code",
   "execution_count": 41,
   "id": "0fb929d7",
   "metadata": {},
   "outputs": [],
   "source": [
    "a_train, a_test, b_train, b_test = train_test_split(a,b, test_size=0.3, random_state=0)"
   ]
  },
  {
   "cell_type": "code",
   "execution_count": 45,
   "id": "60128757",
   "metadata": {},
   "outputs": [],
   "source": [
    "from sklearn.naive_bayes import BernoulliNB"
   ]
  },
  {
   "cell_type": "code",
   "execution_count": 47,
   "id": "9ea38036",
   "metadata": {},
   "outputs": [],
   "source": [
    "nb = BernoulliNB()"
   ]
  },
  {
   "cell_type": "code",
   "execution_count": 48,
   "id": "ce12a404",
   "metadata": {},
   "outputs": [
    {
     "data": {
      "text/plain": [
       "BernoulliNB()"
      ]
     },
     "execution_count": 48,
     "metadata": {},
     "output_type": "execute_result"
    }
   ],
   "source": [
    "nb.fit(a_train, b_train)"
   ]
  },
  {
   "cell_type": "code",
   "execution_count": 49,
   "id": "8786b7bb",
   "metadata": {},
   "outputs": [
    {
     "name": "stderr",
     "output_type": "stream",
     "text": [
      "C:\\Users\\SIDHARTH KANCHARLA\\anaconda3\\lib\\site-packages\\sklearn\\utils\\deprecation.py:103: FutureWarning: Attribute `coef_` was deprecated in version 0.24 and will be removed in 1.1 (renaming of 0.26).\n",
      "  warnings.warn(msg, category=FutureWarning)\n"
     ]
    },
    {
     "data": {
      "text/plain": [
       "array([[-3.59589349e-05, -7.43513559e-01, -4.10439705e-01,\n",
       "        -1.11005786e-02, -3.59589349e-05, -6.68779122e-01,\n",
       "        -1.55010439e+00, -4.30589313e-01, -5.16655843e-01,\n",
       "        -2.68192073e-01, -3.23646946e+00, -3.59589349e-05,\n",
       "        -1.11120473e+00, -6.96532985e-01, -1.07832329e+00,\n",
       "        -4.08490175e-01, -2.42645457e+00]])"
      ]
     },
     "execution_count": 49,
     "metadata": {},
     "output_type": "execute_result"
    }
   ],
   "source": [
    "nb.coef_"
   ]
  },
  {
   "cell_type": "code",
   "execution_count": 50,
   "id": "db866025",
   "metadata": {},
   "outputs": [
    {
     "name": "stderr",
     "output_type": "stream",
     "text": [
      "C:\\Users\\SIDHARTH KANCHARLA\\anaconda3\\lib\\site-packages\\sklearn\\utils\\deprecation.py:103: FutureWarning: Attribute `intercept_` was deprecated in version 0.24 and will be removed in 1.1 (renaming of 0.26).\n",
      "  warnings.warn(msg, category=FutureWarning)\n"
     ]
    },
    {
     "data": {
      "text/plain": [
       "array([-0.57632564])"
      ]
     },
     "execution_count": 50,
     "metadata": {},
     "output_type": "execute_result"
    }
   ],
   "source": [
    "nb.intercept_"
   ]
  },
  {
   "cell_type": "code",
   "execution_count": 52,
   "id": "b8ae8e24",
   "metadata": {},
   "outputs": [
    {
     "data": {
      "text/plain": [
       "0.7115711052433044"
      ]
     },
     "execution_count": 52,
     "metadata": {},
     "output_type": "execute_result"
    }
   ],
   "source": [
    "nb.score(a_test,b_test)"
   ]
  },
  {
   "cell_type": "code",
   "execution_count": 53,
   "id": "c16d4715",
   "metadata": {},
   "outputs": [],
   "source": [
    "predict = nb.predict(a_test)"
   ]
  },
  {
   "cell_type": "code",
   "execution_count": 54,
   "id": "61c310ec",
   "metadata": {},
   "outputs": [
    {
     "data": {
      "text/plain": [
       "0.7115711052433044"
      ]
     },
     "execution_count": 54,
     "metadata": {},
     "output_type": "execute_result"
    }
   ],
   "source": [
    "metrics.accuracy_score(b_test,predict)"
   ]
  },
  {
   "cell_type": "markdown",
   "id": "1dddc174",
   "metadata": {},
   "source": [
    "### Upto 71% there are Hypertension health effects of the people"
   ]
  },
  {
   "cell_type": "code",
   "execution_count": 55,
   "id": "b381f847",
   "metadata": {},
   "outputs": [],
   "source": [
    "c = health.drop('Diabetes', axis=1)\n",
    "d = health['Diabetes']"
   ]
  },
  {
   "cell_type": "code",
   "execution_count": 56,
   "id": "f79b26d0",
   "metadata": {},
   "outputs": [],
   "source": [
    "c_train, c_test, d_train, d_test = train_test_split(c,d, test_size=0.3, random_state=0)"
   ]
  },
  {
   "cell_type": "code",
   "execution_count": 57,
   "id": "868571f8",
   "metadata": {},
   "outputs": [
    {
     "name": "stdout",
     "output_type": "stream",
     "text": [
      "(49484, 17)\n",
      "(21208, 17)\n",
      "(49484,)\n",
      "(21208,)\n"
     ]
    }
   ],
   "source": [
    "print(c_train.shape)\n",
    "print(c_test.shape)\n",
    "print(d_train.shape)\n",
    "print(d_test.shape)"
   ]
  },
  {
   "cell_type": "code",
   "execution_count": 58,
   "id": "40848bc8",
   "metadata": {},
   "outputs": [
    {
     "data": {
      "text/plain": [
       "BernoulliNB()"
      ]
     },
     "execution_count": 58,
     "metadata": {},
     "output_type": "execute_result"
    }
   ],
   "source": [
    "nb.fit(c_train,d_train)"
   ]
  },
  {
   "cell_type": "code",
   "execution_count": 59,
   "id": "e755fff2",
   "metadata": {},
   "outputs": [
    {
     "data": {
      "text/plain": [
       "0.7106752168992833"
      ]
     },
     "execution_count": 59,
     "metadata": {},
     "output_type": "execute_result"
    }
   ],
   "source": [
    "nb.score(c_test,d_test)"
   ]
  },
  {
   "cell_type": "code",
   "execution_count": 60,
   "id": "f1c901f8",
   "metadata": {},
   "outputs": [],
   "source": [
    "pred1 = nb.predict(c_test)"
   ]
  },
  {
   "cell_type": "code",
   "execution_count": 61,
   "id": "4d0c891f",
   "metadata": {},
   "outputs": [
    {
     "name": "stdout",
     "output_type": "stream",
     "text": [
      "              precision    recall  f1-score   support\n",
      "\n",
      "         0.0       0.70      0.72      0.71     10481\n",
      "         1.0       0.72      0.70      0.71     10727\n",
      "\n",
      "    accuracy                           0.71     21208\n",
      "   macro avg       0.71      0.71      0.71     21208\n",
      "weighted avg       0.71      0.71      0.71     21208\n",
      "\n"
     ]
    }
   ],
   "source": [
    "print(metrics.classification_report(d_test, pred1))"
   ]
  },
  {
   "cell_type": "markdown",
   "id": "367ca3cc",
   "metadata": {},
   "source": [
    "### Upto 71 % the persons are affected with Diabetes "
   ]
  },
  {
   "cell_type": "markdown",
   "id": "27ef72df",
   "metadata": {},
   "source": [
    "# CONCLUSION : THE PERCENTAGE OF THE STROKE PEOPLE IS HIGHER THAN COMPARED TO HYPERTENSION AND DIABETES "
   ]
  },
  {
   "cell_type": "code",
   "execution_count": null,
   "id": "6564b672",
   "metadata": {},
   "outputs": [],
   "source": []
  }
 ],
 "metadata": {
  "kernelspec": {
   "display_name": "Python 3 (ipykernel)",
   "language": "python",
   "name": "python3"
  },
  "language_info": {
   "codemirror_mode": {
    "name": "ipython",
    "version": 3
   },
   "file_extension": ".py",
   "mimetype": "text/x-python",
   "name": "python",
   "nbconvert_exporter": "python",
   "pygments_lexer": "ipython3",
   "version": "3.9.12"
  }
 },
 "nbformat": 4,
 "nbformat_minor": 5
}
